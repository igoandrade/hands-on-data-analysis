{
 "cells": [
  {
   "cell_type": "markdown",
   "metadata": {},
   "source": [
    "# Introdução à Análise de Dados"
   ]
  },
  {
   "cell_type": "markdown",
   "metadata": {},
   "source": [
    "* [Fundamentos de análise de dados](#fundamentos-da-análise-de-dados)\n",
    "* [Fundamentos estatísticos](#fundamentos-estatísticos)\n",
    "* [Configuração do ambiente virtual](#configuração-do-ambiente-virtual)"
   ]
  },
  {
   "cell_type": "markdown",
   "metadata": {},
   "source": [
    "## Fundamentos da Análise de dados"
   ]
  },
  {
   "cell_type": "markdown",
   "metadata": {},
   "source": [
    "* Coleta de dados\n",
    "    - *Web Scraping*\n",
    "    - **Aplications Programming Interfaces (APIs)**\n",
    "    - Bancos de dados (SQL)\n",
    "    - Fontes da internet que porveêm dados para download (sites governamentais, Yahoo! Finance, etc.).<br><br>\n",
    "\n",
    "* Organização de dados (*Data wrangling*): é o processo de preparar os dados, colocando-s em um formato que pode ser usado para análise. A seguir são apresentadas algumas questões relevantes nessa etapa de preparação dos dados:\n",
    "    - Erros humanos\n",
    "    - Erros do computador\n",
    "    - Valores inesperados\n",
    "    - Informação incompleta\n",
    "    - Problemas de resolução (os dados foram coletados por segundo, enquanto para a análise são necessários dados por hora).\n",
    "    - Relevância dos campos\n",
    "    - Formato dos dados\n",
    "    - Erros de configuração no processo de gravação dos dados.<br><br>\n",
    "\n",
    "* Análise Exploratória dos Dados (_Exploratory Data Analysis - EDA_): nessa etapa, realizamos a visualização dos dados e preparamos alguns resumos estatísticos a fim de obter uma melhor compreensão dos dados."
   ]
  },
  {
   "cell_type": "markdown",
   "metadata": {},
   "source": [
    "## Fundamentos estatísticos"
   ]
  },
  {
   "cell_type": "markdown",
   "metadata": {},
   "source": [
    "### Estatística Descritiva"
   ]
  },
  {
   "cell_type": "markdown",
   "metadata": {},
   "source": [
    "#### Medidas de Tendência Central\n",
    "\n",
    "* Média $$\\bar{x} = \\dfrac{\\sum_{i=1}^n x_i}{n}$$\n",
    "\n",
    "* Mediana\n",
    "* Moda"
   ]
  },
  {
   "cell_type": "markdown",
   "metadata": {},
   "source": [
    "#### Medidas de Dispersão\n",
    "\n",
    "* Amplitude (_range_): $$range = max(X) - min(X)$$\n",
    "\n",
    "* Variância Amostral ($s^2$): $$s^2 = \\dfrac{\\sum_{i=1}^n \\left(x_i - \\bar{x}\\right)^2}{n - 1}$$\n",
    "\n",
    "* Desvio Padrão Amostral ($s$): $$s = \\sqrt{s^2}$$\n",
    "\n",
    "* Coeficiente de Variação ($CV$): $$CV = \\dfrac{s}{\\bar{x}}$$\n",
    "\n",
    "* Intervalo Interquartil ($IQR$): Os **quantis** dividem o dados em grupos de igula tamanho. Em particular, os **quartis** dividem os dados em quatro grupos (25\\%, 50\\%, 75\\% e 100\\%) e os **percentis** dividem os dados em 100 partes iguais. Nesse sentido o Intervalo Interquartil ($IQR$) e uma medida de dispersão definida pela distância entre o 3º e o 1º quartis:\n",
    "\n",
    "$$IQR = Q_3 - Q_1$$\n",
    "\n",
    "* Coeficiente de dispersão quartil ($QCD$): $$QCD = \\dfrac{ \\dfrac{Q_3 - Q_1}{2} }{ \\dfrac{Q_1 + Q_3}{2} } = \\dfrac{Q_3 - Q_1}{Q_3 + Q_1}$$"
   ]
  },
  {
   "cell_type": "markdown",
   "metadata": {},
   "source": [
    "#### Escalonamento de dados\n",
    "\n",
    "* Normalização: $$x_{normalizado} = \\dfrac{x - min(X)}{range(X)}$$\n",
    "\n",
    "* Padronização *Z-score*($z_i$)): $$z_i = \\dfrac{x_i - \\bar{x}}{s}$$ "
   ]
  },
  {
   "cell_type": "markdown",
   "metadata": {},
   "source": []
  },
  {
   "cell_type": "markdown",
   "metadata": {},
   "source": [
    "## Configuração do ambiente virtual"
   ]
  },
  {
   "cell_type": "markdown",
   "metadata": {},
   "source": []
  }
 ],
 "metadata": {
  "language_info": {
   "name": "python"
  },
  "orig_nbformat": 4
 },
 "nbformat": 4,
 "nbformat_minor": 2
}
